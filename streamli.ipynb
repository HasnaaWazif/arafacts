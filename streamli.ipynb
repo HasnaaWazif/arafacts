{
  "nbformat": 4,
  "nbformat_minor": 0,
  "metadata": {
    "colab": {
      "provenance": [],
      "authorship_tag": "ABX9TyMPVvWCvFA09xeBapAiNAjK",
      "include_colab_link": true
    },
    "kernelspec": {
      "name": "python3",
      "display_name": "Python 3"
    },
    "language_info": {
      "name": "python"
    }
  },
  "cells": [
    {
      "cell_type": "markdown",
      "metadata": {
        "id": "view-in-github",
        "colab_type": "text"
      },
      "source": [
        "<a href=\"https://colab.research.google.com/github/HasnaaWazif/arafacts/blob/main/streamli.ipynb\" target=\"_parent\"><img src=\"https://colab.research.google.com/assets/colab-badge.svg\" alt=\"Open In Colab\"/></a>"
      ]
    },
    {
      "cell_type": "code",
      "execution_count": null,
      "metadata": {
        "id": "VPb0ozKa_IZT"
      },
      "outputs": [],
      "source": [
        "import streamlit as st\n",
        "import torch\n",
        "\n",
        "# Load and prepare the model\n",
        "model.eval()\n",
        "device = torch.device(\"cuda\" if torch.cuda.is_available() else \"cpu\")\n",
        "model.to(device)\n",
        "\n",
        "# Streamlit interface\n",
        "st.title(\"Arabic Claim Fact-Checking\")\n",
        "input_claim = st.text_input(\"Enter an Arabic claim:\")\n",
        "st.write(\"Example claims:\")\n",
        "st.write(\"1. الشمس تدور حول الأرض.\")\n",
        "st.write(\"2. الأرض كروية الشكل.\")\n",
        "\n",
        "if st.button(\"Check Fact\"):\n",
        "    if input_claim:\n",
        "        try:\n",
        "            # Process the input text\n",
        "            inputs = tokenizer(input_claim, return_tensors=\"pt\", truncation=True, padding=True, max_length=128).to(device)\n",
        "            outputs = model(**inputs)\n",
        "            prediction = torch.argmax(outputs.logits, dim=1).item()\n",
        "            label = {0: \"True\", 1: \"False\", 2: \"Misleading\"}[prediction]\n",
        "            st.write(f\"The claim is **{label}**\")\n",
        "        except Exception as e:\n",
        "            st.error(f\"An error occurred: {e}\")\n",
        "    else:\n",
        "        st.warning(\"Please enter a claim to check.\")"
      ]
    }
  ]
}